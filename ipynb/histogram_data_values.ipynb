{
 "metadata": {
  "name": "",
  "signature": "sha256:71c8c94155681649706c3acf922e1848bd2c00c588afa037f41f5c47afc01c94"
 },
 "nbformat": 3,
 "nbformat_minor": 0,
 "worksheets": [
  {
   "cells": [
    {
     "cell_type": "code",
     "collapsed": false,
     "input": [
      "from __future__ import print_function\n",
      "import couchdb\n",
      "s=couchdb.Server('https://127.0.0.1/couchdb')\n",
      "db=s['ucldc']"
     ],
     "language": "python",
     "metadata": {},
     "outputs": [],
     "prompt_number": 1
    },
    {
     "cell_type": "code",
     "collapsed": false,
     "input": [
      "def histogram_field_value(field_path):\n",
      "    viewname = 'qa_reports/{0}_value'.format(field_path)\n",
      "    view=db.view(viewname, group_level=2)\n",
      "    reduced_list = [r for r in view]\n",
      "    reduced_list.sort(key=lambda row: -int(row['value']))\n",
      "    return reduced_list"
     ],
     "language": "python",
     "metadata": {},
     "outputs": [],
     "prompt_number": 2
    },
    {
     "cell_type": "code",
     "collapsed": false,
     "input": [
      "hist_list = histogram_field_value('sourceResource.subject.name')\n",
      "for row in hist_list:\n",
      "    if row['value'] > 1000:\n",
      "        print(row)"
     ],
     "language": "python",
     "metadata": {},
     "outputs": [
      {
       "output_type": "stream",
       "stream": "stdout",
       "text": [
        "<Row key=[None, u'26094'], value=523318>\n",
        "<Row key=[u'Dorothea Lange Collection', u'12378'], value=20820>\n",
        "<Row key=[u\"EASTMAN'S ORIGINALS COLLECTION\", u'8'], value=13218>\n",
        "<Row key=[u'Around the World (1958-1963)', u'12378'], value=6578>\n",
        "<Row key=[u'Photographic Essays (1953-1959)', u'12378'], value=6569>\n",
        "<Row key=[u'Maynard L. Parker negatives, photographs, and other material', u'14167'], value=6497>\n",
        "<Row key=[u'Native Americans', u'14202'], value=5668>\n",
        "<Row key=[u'Rock art series', u'14202'], value=5258>\n",
        "<Row key=[u'Pomona Public Library - The Frasher Foto Postcard Collection', u'7781'], value=4964>\n",
        "<Row key=[u'Daniel McCarthy Collection, 1970-1991', u'14202'], value=4809>\n",
        "<Row key=[u'Early Years (1918-) Portraits & Lange Personal Photos', u'12378'], value=4777>\n",
        "<Row key=[u'Herman Baca Papers', u'1412'], value=4343>\n",
        "<Row key=[u'Dorothea Lange.s Personal Photographs', u'12378'], value=4250>\n",
        "<Row key=[u'Trees', u'8'], value=3568>\n",
        "<Row key=[u'People', u'8'], value=3542>\n",
        "<Row key=[u'California Ethnographic Field Photographs', u'3453'], value=3305>\n",
        "<Row key=[u'Mountains', u'8'], value=3250>\n",
        "<Row key=[u'Automobiles', u'8'], value=2729>\n",
        "<Row key=[u'Forests', u'8'], value=2526>\n",
        "<Row key=[u'Ireland', u'12378'], value=2404>\n",
        "<Row key=[u'California', u'14202'], value=2351>\n",
        "<Row key=[u'Robert B. Honeyman, Jr. Collection of Early Californian and Western American Pictorial Material', u'141'], value=2270>\n",
        "<Row key=[u'Egypt', u'12378'], value=2077>\n",
        "<Row key=[u'Oliver family photograph collections', u'16189'], value=2046>\n",
        "<Row key=[u'Museums and the Online Archive of California', u'16189'], value=2045>\n",
        "<Row key=[u'Chinese in California', u'143'], value=2022>\n",
        "<Row key=[u'Egypt - Untitled', u'12378'], value=1905>\n",
        "<Row key=[u'Rosalie Ritz courtroom drawings', u'18427'], value=1831>\n",
        "<Row key=[u'Trials--Pictorial works', u'18427'], value=1831>\n",
        "<Row key=[u'Arnold Del Carlo Photograph Collection', u'5840'], value=1788>\n",
        "<Row key=[u'Lone Mountain College Collection of Stereographs by Eadweard Muybridge', u'15426'], value=1727>\n",
        "<Row key=[u'California Heritage Collection', u'15426'], value=1726>\n",
        "<Row key=[u'Stores & shops', u'8'], value=1678>\n",
        "<Row key=[u'Oxnard Heritage Digitization Project', u'16436'], value=1657>\n",
        "<Row key=[u'Oxnard Public Library Photograph Collection', u'16436'], value=1657>\n",
        "<Row key=[u'Photograph', u'16436'], value=1657>\n",
        "<Row key=[u'Oxnard (Calif.)', u'16436'], value=1617>\n",
        "<Row key=[u'Lakes & ponds', u'8'], value=1616>\n",
        "<Row key=[u'Men', u'8'], value=1561>\n",
        "<Row key=[u'Streets', u'8'], value=1540>\n",
        "<Row key=[u'Johan Hagemeyer Photograph Collection', u'9181'], value=1500>\n",
        "<Row key=[u'Museums and the Online Archive of California', u'9181'], value=1499>\n",
        "<Row key=[u'Signs', u'8'], value=1451>\n",
        "<Row key=[u'C. Hart Merriam Collection of Native American Photographs', u'14532'], value=1441>\n",
        "<Row key=[u'Snow', u'8'], value=1402>\n",
        "<Row key=[u'Riverside County (Calif.)', u'14202'], value=1376>\n",
        "<Row key=[u'Clothing & dress', u'8'], value=1358>\n",
        "<Row key=[u'Miscellaneous Bay Area', u'12378'], value=1335>\n",
        "<Row key=[u'James D. Phelan Photograph Albums', u'17070'], value=1329>\n",
        "<Row key=[u'Korea', u'12378'], value=1289>\n",
        "<Row key=[u'Roads', u'8'], value=1279>\n",
        "<Row key=[u'Roy D. Graves Pictorial Collection', u'8848'], value=1209>\n",
        "<Row key=[u'SERIES 1: SAN FRANCISCO VIEWS', u'8848'], value=1209>\n",
        "<Row key=[u'Sports & recreation facilities', u'8'], value=1198>\n",
        "<Row key=[u'Series groupings', u'141'], value=1171>\n",
        "<Row key=[u'Construction Photographs of the San Francisco-Oakland Bay Bridge', u'4991'], value=1161>\n",
        "<Row key=[u'Three Mormon Towns', u'12378'], value=1130>\n",
        "<Row key=[u'Resorts', u'8'], value=1070>\n",
        "<Row key=[u'The Bancroft Library', u'143'], value=1069>\n",
        "<Row key=[u'Stereographs of the West from The Bancroft Library Pictorial Collection', u'21830'], value=1018>\n"
       ]
      }
     ],
     "prompt_number": 3
    },
    {
     "cell_type": "code",
     "collapsed": false,
     "input": [],
     "language": "python",
     "metadata": {},
     "outputs": []
    }
   ],
   "metadata": {}
  }
 ]
}