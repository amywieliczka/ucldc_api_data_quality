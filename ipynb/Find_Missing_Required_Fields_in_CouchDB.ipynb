{
 "metadata": {
  "name": "",
  "signature": "sha256:315d0bdcdd355a2d1989996c0b361517b48b4cdb7a307df8cc14481b42fc6db7"
 },
 "nbformat": 3,
 "nbformat_minor": 0,
 "worksheets": [
  {
   "cells": [
    {
     "cell_type": "heading",
     "level": 1,
     "metadata": {},
     "source": [
      "Find missing data in UCLDC couchdb"
     ]
    },
    {
     "cell_type": "markdown",
     "metadata": {},
     "source": [
      "This is a notebook that is a starting point for QA against the couchdb database currently used for storing UCLDC harvested records. Can add cells for checking other data values. There must be a \"_value\" QA view in couchdb for the functions below to work."
     ]
    },
    {
     "cell_type": "code",
     "collapsed": false,
     "input": [
      "#import some basic useful libraries and functions\n",
      "from __future__ import print_function\n",
      "import sys\n",
      "import os"
     ],
     "language": "python",
     "metadata": {},
     "outputs": []
    },
    {
     "cell_type": "markdown",
     "metadata": {},
     "source": [
      "Connect to the couchdb database. The database name is 'ucldc' for our system."
     ]
    },
    {
     "cell_type": "code",
     "collapsed": false,
     "input": [
      "import couchdb\n",
      "s=couchdb.Server('https://127.0.0.1/couchdb')\n",
      "db=s['ucldc']"
     ],
     "language": "python",
     "metadata": {},
     "outputs": []
    },
    {
     "cell_type": "markdown",
     "metadata": {},
     "source": [
      "Create functions for finding missing field data."
     ]
    },
    {
     "cell_type": "code",
     "collapsed": false,
     "input": [
      "def get_missing_for_field(field_path, collection_id=None):\n",
      "    '''Calls the couchdb view corresponding to <field_path>_value, using start/end key values to get only\n",
      "    documents which are MISSING the field entirely.\n",
      "    If no collection_id is given, it will work on all documents in the DB and could be very slow.\n",
      "    '''\n",
      "    viewname = 'qa_reports/{0}_value'.format(field_path)\n",
      "    start_key = [\"__MISSING__\"]\n",
      "    end_key = [\"__MISSING__\"]\n",
      "    if collection_id:\n",
      "        start_key.append(str(collection_id))\n",
      "        end_key.append(str(collection_id))\n",
      "    end_key.append({}) # empty dict\n",
      "    view=db.view(viewname, startkey=start_key, endkey=end_key,group_level=3)\n",
      "    missing_list = [r for r in view]\n",
      "    return missing_list\n",
      "\n",
      "def get_missing_for_field_in_collections(field_path, collection_ids):\n",
      "    '''Get missings for a number of collections'''\n",
      "    missing_list = []\n",
      "    for cid in collection_ids:\n",
      "        missing_list.extend(get_missing_for_field(field_path, collection_id=cid))\n",
      "    return missing_list"
     ],
     "language": "python",
     "metadata": {},
     "outputs": []
    },
    {
     "cell_type": "markdown",
     "metadata": {},
     "source": [
      "Unfortunately, blank or \"null\" values need to be handled differently"
     ]
    },
    {
     "cell_type": "code",
     "collapsed": false,
     "input": [
      "def get_null_for_field(field_path, collection_id=None):\n",
      "    '''Calls the couchdb view corresponding to <field_path>_value, using start/end key values to get only\n",
      "    documents which have null or blank string values for the field.\n",
      "    If no collection_id is given, it will work on all documents in the DB and could be very slow.\n",
      "    '''\n",
      "    viewname = 'qa_reports/{0}_value'.format(field_path)\n",
      "    start_key = []\n",
      "    end_key = [\"\"]\n",
      "    if collection_id:\n",
      "        start_key.append(str(collection_id))\n",
      "        end_key.append(str(collection_id))\n",
      "    end_key.append({}) # empty dict\n",
      "    print(\"SKEY:{} EKEY:{}\".format(start_key, end_key))\n",
      "    view=db.view(viewname, startkey=start_key, endkey=end_key, group_level=3)\n",
      "    null_list = [r for r in view]\n",
      "    return null_list\n",
      "\n",
      "def get_null_for_field_in_collections(field_path, collection_ids):\n",
      "    '''Get null or blank for a number of collections'''\n",
      "    missing_list = []\n",
      "    for cid in collection_ids:\n",
      "        null_list.extend(get_missing_for_field(field_path, collection_id=cid))\n",
      "    return null_list"
     ],
     "language": "python",
     "metadata": {},
     "outputs": []
    },
    {
     "cell_type": "markdown",
     "metadata": {},
     "source": [
      "This will print out all the records found for the criteria. This could be a *very* long list."
     ]
    },
    {
     "cell_type": "code",
     "collapsed": false,
     "input": [
      "#now flag problems, there are certain items that should never be missing\n",
      "def report_missing_for_field(field, collection_id=None):\n",
      "    '''convenience function for reporting'''\n",
      "    missing = get_missing_for_field(field, collection_id=collection_id)\n",
      "    for row in missing:\n",
      "        print('Missing {0}: {1}'.format(field, row['key'][2]), file=sys.stderr) #outputting to stderr make red bkgnd"
     ],
     "language": "python",
     "metadata": {},
     "outputs": []
    },
    {
     "cell_type": "code",
     "collapsed": false,
     "input": [
      "report_missing_for_field('dataProvider', collection_id=1675)"
     ],
     "language": "python",
     "metadata": {},
     "outputs": []
    },
    {
     "cell_type": "code",
     "collapsed": false,
     "input": [
      "missing = get_missing_for_field('sourceResource.identifier')\n",
      "print('Number missing identifier:{}'.format(len(missing)))\n",
      "collection_ids = [row['key'][1] for row in missing]\n",
      "collection_ids = set(collection_ids) # this will give unique collection ids for missing id docs\n",
      "print('Collection ids:{}'.format(collection_ids))\n",
      "print('First 10:{}'.format([row['key'][2] for row in missing[:10]]), file=sys.stderr)"
     ],
     "language": "python",
     "metadata": {},
     "outputs": []
    },
    {
     "cell_type": "code",
     "collapsed": false,
     "input": [
      "report_missing_for_field('sourceResource.title')"
     ],
     "language": "python",
     "metadata": {},
     "outputs": []
    },
    {
     "cell_type": "code",
     "collapsed": false,
     "input": [
      "report_missing_for_field('isShownBy', collection_id=1675)"
     ],
     "language": "python",
     "metadata": {},
     "outputs": []
    },
    {
     "cell_type": "code",
     "collapsed": false,
     "input": [
      "report_missing_for_field('isShownBy')"
     ],
     "language": "python",
     "metadata": {},
     "outputs": []
    },
    {
     "cell_type": "code",
     "collapsed": false,
     "input": [
      "missing = get_missing_for_field_in_collections('isShownBy', (1675, 1750))\n",
      "for row in missing:\n",
      "    print('Missing \"isShownBy\" for {}'.format(row['key'][2]), file=sys.stderr)"
     ],
     "language": "python",
     "metadata": {},
     "outputs": []
    },
    {
     "cell_type": "code",
     "collapsed": false,
     "input": [
      "### missing = get_missing_for_field('sourceResource.collection.description')\n",
      "### print('MISSING collection descrip:{}'.format(len(missing)))\n",
      "null = get_null_for_field('sourceResource.collection.description')\n",
      "print('null collection descrip:{}'.format(len(null)))\n",
      "for i in null[:10]:\n",
      "    print(i)"
     ],
     "language": "python",
     "metadata": {},
     "outputs": []
    },
    {
     "cell_type": "code",
     "collapsed": false,
     "input": [],
     "language": "python",
     "metadata": {},
     "outputs": []
    }
   ],
   "metadata": {}
  }
 ]
}