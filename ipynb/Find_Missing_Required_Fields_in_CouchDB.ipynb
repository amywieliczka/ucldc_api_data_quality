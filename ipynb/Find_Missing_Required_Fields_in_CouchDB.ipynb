{
 "metadata": {
  "name": ""
 },
 "nbformat": 3,
 "nbformat_minor": 0,
 "worksheets": [
  {
   "cells": [
    {
     "cell_type": "code",
     "collapsed": false,
     "input": [
      "from __future__ import print_function"
     ],
     "language": "python",
     "metadata": {},
     "outputs": [],
     "prompt_number": 38
    },
    {
     "cell_type": "code",
     "collapsed": false,
     "input": [
      "import couchdb\n",
      "s=couchdb.Server('https://54.84.142.143/couchdb')\n",
      "db=s['ucldc']"
     ],
     "language": "python",
     "metadata": {},
     "outputs": [],
     "prompt_number": 39
    },
    {
     "cell_type": "code",
     "collapsed": false,
     "input": [
      "def get_missing_for_field(field_path, collection_id=None):\n",
      "    viewname = 'qa_reports/{0}_value'.format(field_path)\n",
      "    start_key = [\"__MISSING__\"]\n",
      "    end_key = [\"__MISSING__\"]\n",
      "    if collection_id:\n",
      "        start_key.append(str(collection_id))\n",
      "        end_key.append(str(collection_id))\n",
      "    end_key.append({}) # empty dict\n",
      "    view=db.view(viewname, startkey=start_key, endkey=end_key,group_level=3)\n",
      "    missing_list = [r for r in view]\n",
      "    return missing_list\n",
      "\n",
      "def get_missing_for_field_collection_list(field_path, collection_ids):\n",
      "    missing_list = []\n",
      "    for cid in collection_ids:\n",
      "        missing_list.extend(get_missing_for_field(field_path, collection_id=cid))\n",
      "    return missing_list"
     ],
     "language": "python",
     "metadata": {},
     "outputs": [],
     "prompt_number": 49
    },
    {
     "cell_type": "code",
     "collapsed": false,
     "input": [
      "#now flag problems, there are certain items that should never be missing\n",
      "import sys\n",
      "def report_missing_for_field(field, collection_id=None):\n",
      "    missing = get_missing_for_field(field, collection_id=collection_id)\n",
      "    for row in missing:\n",
      "        print('Missing {0}: {1}'.format(field, row['key'][2]), file=sys.stderr)"
     ],
     "language": "python",
     "metadata": {},
     "outputs": [],
     "prompt_number": 50
    },
    {
     "cell_type": "code",
     "collapsed": false,
     "input": [
      "report_missing_for_field('dataProvider', collection_id=1675)"
     ],
     "language": "python",
     "metadata": {},
     "outputs": [],
     "prompt_number": 51
    },
    {
     "cell_type": "code",
     "collapsed": false,
     "input": [
      "report_missing_for_field('sourceResource.identifier')"
     ],
     "language": "python",
     "metadata": {},
     "outputs": [],
     "prompt_number": 52
    },
    {
     "cell_type": "code",
     "collapsed": false,
     "input": [
      "report_missing_for_field('sourceResource.title')"
     ],
     "language": "python",
     "metadata": {},
     "outputs": [],
     "prompt_number": 53
    },
    {
     "cell_type": "code",
     "collapsed": false,
     "input": [
      "report_missing_for_field('isShownBy', collection_id=1675)"
     ],
     "language": "python",
     "metadata": {},
     "outputs": [
      {
       "output_type": "stream",
       "stream": "stderr",
       "text": [
        "Missing isShownBy: 1675--http://ark.cdlib.org/ark:/13030/kt1t1nd9zd\n"
       ]
      }
     ],
     "prompt_number": 54
    },
    {
     "cell_type": "code",
     "collapsed": false,
     "input": [
      "report_missing_for_field('isShownBy')"
     ],
     "language": "python",
     "metadata": {},
     "outputs": [
      {
       "output_type": "stream",
       "stream": "stderr",
       "text": [
        "Missing isShownBy: 1675--http://ark.cdlib.org/ark:/13030/kt1t1nd9zd\n",
        "Missing isShownBy: 1750--http://ark.cdlib.org/ark:/13030/kt496nf26r\n"
       ]
      }
     ],
     "prompt_number": 55
    },
    {
     "cell_type": "code",
     "collapsed": false,
     "input": [
      "missing = get_missing_for_field_collection_list('isShownBy', (1675, 1750))\n",
      "for row in missing:\n",
      "    print('Missing \"isShownBy\" for {}'.format(row['key'][2]), file=sys.stderr)"
     ],
     "language": "python",
     "metadata": {},
     "outputs": [
      {
       "output_type": "stream",
       "stream": "stderr",
       "text": [
        "Missing \"isShownBy\" for 1675--http://ark.cdlib.org/ark:/13030/kt1t1nd9zd\n",
        "Missing \"isShownBy\" for 1750--http://ark.cdlib.org/ark:/13030/kt496nf26r\n"
       ]
      }
     ],
     "prompt_number": 59
    },
    {
     "cell_type": "code",
     "collapsed": false,
     "input": [],
     "language": "python",
     "metadata": {},
     "outputs": []
    }
   ],
   "metadata": {}
  }
 ]
}