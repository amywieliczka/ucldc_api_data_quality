{
 "metadata": {
  "name": ""
 },
 "nbformat": 3,
 "nbformat_minor": 0,
 "worksheets": [
  {
   "cells": [
    {
     "cell_type": "heading",
     "level": 1,
     "metadata": {},
     "source": [
      "Find missing data in UCLDC couchdb"
     ]
    },
    {
     "cell_type": "markdown",
     "metadata": {},
     "source": [
      "This is a notebook that is a starting point for QA against the couchdb database currently used for storing UCLDC harvested records. Can add cells for checking other data values. There must be a \"_value\" QA view in couchdb for the functions below to work."
     ]
    },
    {
     "cell_type": "code",
     "collapsed": false,
     "input": [
      "#import some basic useful libraries and functions\n",
      "from __future__ import print_function\n",
      "import sys"
     ],
     "language": "python",
     "metadata": {},
     "outputs": [],
     "prompt_number": 2
    },
    {
     "cell_type": "markdown",
     "metadata": {},
     "source": [
      "Connect to the couchdb database. The database name is 'ucldc' for our system."
     ]
    },
    {
     "cell_type": "code",
     "collapsed": false,
     "input": [
      "import couchdb\n",
      "s=couchdb.Server('https://54.84.142.143/couchdb')\n",
      "db=s['ucldc']"
     ],
     "language": "python",
     "metadata": {},
     "outputs": [],
     "prompt_number": 3
    },
    {
     "cell_type": "code",
     "collapsed": false,
     "input": [
      "def get_missing_for_field(field_path, collection_id=None):\n",
      "    '''Calls the couchdb view corresponding to <field_path>_value, using start/end key values to get only\n",
      "    documents which are MISSING the field entirely.\n",
      "    If no collection_id is given, it will work on all documents in the DB and could be very slow.\n",
      "    '''\n",
      "    viewname = 'qa_reports/{0}_value'.format(field_path)\n",
      "    start_key = [\"__MISSING__\"]\n",
      "    end_key = [\"__MISSING__\"]\n",
      "    if collection_id:\n",
      "        start_key.append(str(collection_id))\n",
      "        end_key.append(str(collection_id))\n",
      "    end_key.append({}) # empty dict\n",
      "    view=db.view(viewname, startkey=start_key, endkey=end_key,group_level=3)\n",
      "    missing_list = [r for r in view]\n",
      "    return missing_list\n",
      "\n",
      "def get_missing_for_field_in_collections(field_path, collection_ids):\n",
      "    '''Get missings for a number of collections'''\n",
      "    missing_list = []\n",
      "    for cid in collection_ids:\n",
      "        missing_list.extend(get_missing_for_field(field_path, collection_id=cid))\n",
      "    return missing_list"
     ],
     "language": "python",
     "metadata": {},
     "outputs": [],
     "prompt_number": 4
    },
    {
     "cell_type": "code",
     "collapsed": false,
     "input": [
      "def get_null_for_field(field_path, collection_id=None):\n",
      "    '''Calls the couchdb view corresponding to <field_path>_value, using start/end key values to get only\n",
      "    documents which have null or blank string values for the field.\n",
      "    If no collection_id is given, it will work on all documents in the DB and could be very slow.\n",
      "    '''\n",
      "    viewname = 'qa_reports/{0}_value'.format(field_path)\n",
      "    start_key = []\n",
      "    end_key = [\"\"]\n",
      "    if collection_id:\n",
      "        start_key.append(str(collection_id))\n",
      "        end_key.append(str(collection_id))\n",
      "    end_key.append({}) # empty dict\n",
      "    print(\"SKEY:{} EKEY:{}\".format(start_key, end_key))\n",
      "    view=db.view(viewname, startkey=start_key, endkey=end_key, group_level=3)\n",
      "    null_list = [r for r in view]\n",
      "    return null_list\n",
      "\n",
      "def get_null_for_field_in_collections(field_path, collection_ids):\n",
      "    '''Get null or blank for a number of collections'''\n",
      "    missing_list = []\n",
      "    for cid in collection_ids:\n",
      "        null_list.extend(get_missing_for_field(field_path, collection_id=cid))\n",
      "    return null_list"
     ],
     "language": "python",
     "metadata": {},
     "outputs": [],
     "prompt_number": 6
    },
    {
     "cell_type": "code",
     "collapsed": false,
     "input": [
      "#now flag problems, there are certain items that should never be missing\n",
      "def report_missing_for_field(field, collection_id=None):\n",
      "    '''convenience function for reporting'''\n",
      "    missing = get_missing_for_field(field, collection_id=collection_id)\n",
      "    for row in missing:\n",
      "        print('Missing {0}: {1}'.format(field, row['key'][2]), file=sys.stderr) #outputting to stderr make red bkgnd"
     ],
     "language": "python",
     "metadata": {},
     "outputs": [],
     "prompt_number": 7
    },
    {
     "cell_type": "code",
     "collapsed": false,
     "input": [
      "report_missing_for_field('dataProvider', collection_id=1675)"
     ],
     "language": "python",
     "metadata": {},
     "outputs": [],
     "prompt_number": "*"
    },
    {
     "cell_type": "code",
     "collapsed": false,
     "input": [
      "report_missing_for_field('sourceResource.identifier')"
     ],
     "language": "python",
     "metadata": {},
     "outputs": [],
     "prompt_number": "*"
    },
    {
     "cell_type": "code",
     "collapsed": false,
     "input": [
      "report_missing_for_field('sourceResource.title')"
     ],
     "language": "python",
     "metadata": {},
     "outputs": [
      {
       "output_type": "stream",
       "stream": "stderr",
       "text": [
        "Missing sourceResource.title: 4731--http://ark.cdlib.org/ark:/13030/c84m92sh\n",
        "Missing sourceResource.title: 4731--http://ark.cdlib.org/ark:/13030/c88c9tgd\n",
        "Missing sourceResource.title: 4731--http://ark.cdlib.org/ark:/13030/c8d21vtd\n"
       ]
      }
     ],
     "prompt_number": 10
    },
    {
     "cell_type": "code",
     "collapsed": false,
     "input": [
      "report_missing_for_field('isShownBy', collection_id=1675)"
     ],
     "language": "python",
     "metadata": {},
     "outputs": [
      {
       "output_type": "stream",
       "stream": "stderr",
       "text": [
        "Missing isShownBy: 1675--http://ark.cdlib.org/ark:/13030/kt1t1nd9zd\n"
       ]
      }
     ],
     "prompt_number": 11
    },
    {
     "cell_type": "code",
     "collapsed": false,
     "input": [
      "report_missing_for_field('isShownBy')"
     ],
     "language": "python",
     "metadata": {},
     "outputs": [
      {
       "output_type": "stream",
       "stream": "stderr",
       "text": [
        "Missing isShownBy: 10130--http://ark.cdlib.org/ark:/13030/kt3j49s0dk\n",
        "Missing isShownBy: 1675--http://ark.cdlib.org/ark:/13030/kt1t1nd9zd\n",
        "Missing isShownBy: 1750--http://ark.cdlib.org/ark:/13030/kt496nf26r\n",
        "Missing isShownBy: 23105--http://ark.cdlib.org/ark:/13030/c84j0h2c\n",
        "Missing isShownBy: 23107--http://ark.cdlib.org/ark:/13030/c8057hgc\n",
        "Missing isShownBy: 23107--http://ark.cdlib.org/ark:/13030/c8154jk9\n",
        "Missing isShownBy: 23107--http://ark.cdlib.org/ark:/13030/c8251kp7\n",
        "Missing isShownBy: 23107--http://ark.cdlib.org/ark:/13030/c83x886s\n",
        "Missing isShownBy: 23107--http://ark.cdlib.org/ark:/13030/c84x599q\n",
        "Missing isShownBy: 23107--http://ark.cdlib.org/ark:/13030/c86q1zsw\n",
        "Missing isShownBy: 23107--http://ark.cdlib.org/ark:/13030/c87p90x3\n",
        "Missing isShownBy: 23107--http://ark.cdlib.org/ark:/13030/c88k7bmq\n",
        "Missing isShownBy: 23107--http://ark.cdlib.org/ark:/13030/c8bg2qhm\n",
        "Missing isShownBy: 23107--http://ark.cdlib.org/ark:/13030/c8cf9rm0\n",
        "Missing isShownBy: 23107--http://ark.cdlib.org/ark:/13030/c8db83cw\n",
        "Missing isShownBy: 23107--http://ark.cdlib.org/ark:/13030/c8g73g7b\n",
        "Missing isShownBy: 23107--http://ark.cdlib.org/ark:/13030/c8h41sz0\n",
        "Missing isShownBy: 23107--http://ark.cdlib.org/ark:/13030/c8j38v2s\n",
        "Missing isShownBy: 23107--http://ark.cdlib.org/ark:/13030/c8kw5hkg\n",
        "Missing isShownBy: 23107--http://ark.cdlib.org/ark:/13030/c8mw2jnz\n",
        "Missing isShownBy: 23107--http://ark.cdlib.org/ark:/13030/c8nv9krb\n",
        "Missing isShownBy: 23107--http://ark.cdlib.org/ark:/13030/c8qn6896\n",
        "Missing isShownBy: 23107--http://ark.cdlib.org/ark:/13030/c8rn39cp\n",
        "Missing isShownBy: 23107--http://ark.cdlib.org/ark:/13030/c8sn0bgm\n",
        "Missing isShownBy: 23107--http://ark.cdlib.org/ark:/13030/c8wd423d\n",
        "Missing isShownBy: 23107--http://ark.cdlib.org/ark:/13030/c8xd136b\n",
        "Missing isShownBy: 24760--http://ark.cdlib.org/ark:/13030/hb9489p040\n",
        "Missing isShownBy: 25471--http://ark.cdlib.org/ark:/13030/hb2779n5n6\n",
        "Missing isShownBy: 25471--http://ark.cdlib.org/ark:/13030/hb4p3003p3\n",
        "Missing isShownBy: 25471--http://ark.cdlib.org/ark:/13030/hb8x0nb3jw\n",
        "Missing isShownBy: 25471--http://ark.cdlib.org/ark:/13030/hb958006wx\n",
        "Missing isShownBy: 25471--http://ark.cdlib.org/ark:/13030/hb9v19p0sd\n",
        "Missing isShownBy: 25597--http://ark.cdlib.org/ark:/28722/bk001533m4t\n",
        "Missing isShownBy: 25597--http://ark.cdlib.org/ark:/28722/bk001533m5c\n",
        "Missing isShownBy: 25597--http://ark.cdlib.org/ark:/28722/bk001533m6x\n",
        "Missing isShownBy: 25597--http://ark.cdlib.org/ark:/28722/bk001533m7g\n",
        "Missing isShownBy: 25597--http://ark.cdlib.org/ark:/28722/bk001533m81\n",
        "Missing isShownBy: 25597--http://ark.cdlib.org/ark:/28722/bk001533m9k\n",
        "Missing isShownBy: 25597--http://ark.cdlib.org/ark:/28722/bk001533n04\n",
        "Missing isShownBy: 25597--http://ark.cdlib.org/ark:/28722/bk001533n1p\n",
        "Missing isShownBy: 25597--http://ark.cdlib.org/ark:/28722/bk001533n27\n",
        "Missing isShownBy: 25597--http://ark.cdlib.org/ark:/28722/bk001533n3s\n",
        "Missing isShownBy: 25597--http://ark.cdlib.org/ark:/28722/bk001533n4b\n",
        "Missing isShownBy: 25597--http://ark.cdlib.org/ark:/28722/bk001533n5w\n",
        "Missing isShownBy: 25597--http://ark.cdlib.org/ark:/28722/bk001533n6f\n",
        "Missing isShownBy: 25597--http://ark.cdlib.org/ark:/28722/bk001533n70\n",
        "Missing isShownBy: 25597--http://ark.cdlib.org/ark:/28722/bk001533n8j\n",
        "Missing isShownBy: 25597--http://ark.cdlib.org/ark:/28722/bk001533n93\n",
        "Missing isShownBy: 25597--http://ark.cdlib.org/ark:/28722/bk001533p0n\n",
        "Missing isShownBy: 25597--http://ark.cdlib.org/ark:/28722/bk001533p16\n",
        "Missing isShownBy: 25597--http://ark.cdlib.org/ark:/28722/bk001533p2r\n",
        "Missing isShownBy: 25597--http://ark.cdlib.org/ark:/28722/bk001533p39\n",
        "Missing isShownBy: 25597--http://ark.cdlib.org/ark:/28722/bk001533p4v\n",
        "Missing isShownBy: 25597--http://ark.cdlib.org/ark:/28722/bk001533p5d\n",
        "Missing isShownBy: 4863--http://ark.cdlib.org/ark:/13030/kt6j49r9rk\n",
        "Missing isShownBy: 5022--http://ark.cdlib.org/ark:/13030/kt2w1002n4\n",
        "Missing isShownBy: 5022--http://ark.cdlib.org/ark:/13030/kt4w1003xc\n",
        "Missing isShownBy: 6083--http://ark.cdlib.org/ark:/13030/hb638nb1hj\n",
        "Missing isShownBy: 8622--http://ark.cdlib.org/ark:/13030/kt4m3nf33n\n",
        "Missing isShownBy: 8622--http://ark.cdlib.org/ark:/13030/tf7v19p5mm\n",
        "Missing isShownBy: 9836--http://ark.cdlib.org/ark:/13030/ft829006r8\n"
       ]
      }
     ],
     "prompt_number": 12
    },
    {
     "cell_type": "code",
     "collapsed": false,
     "input": [
      "missing = get_missing_for_field_in_collections('isShownBy', (1675, 1750))\n",
      "for row in missing:\n",
      "    print('Missing \"isShownBy\" for {}'.format(row['key'][2]), file=sys.stderr)"
     ],
     "language": "python",
     "metadata": {},
     "outputs": [
      {
       "output_type": "stream",
       "stream": "stderr",
       "text": [
        "Missing \"isShownBy\" for 1675--http://ark.cdlib.org/ark:/13030/kt1t1nd9zd\n",
        "Missing \"isShownBy\" for 1750--http://ark.cdlib.org/ark:/13030/kt496nf26r\n"
       ]
      }
     ],
     "prompt_number": 13
    },
    {
     "cell_type": "code",
     "collapsed": false,
     "input": [
      "### missing = get_missing_for_field('sourceResource.collection.description')\n",
      "### print('MISSING collection descrip:{}'.format(len(missing)))\n",
      "null = get_null_for_field('sourceResource.collection.description')\n",
      "print('null collection descrip:{}'.format(len(null)))\n",
      "for i in null[:10]:\n",
      "    print(i)"
     ],
     "language": "python",
     "metadata": {},
     "outputs": [
      {
       "output_type": "stream",
       "stream": "stdout",
       "text": [
        "SKEY:[] EKEY:['', {}]\n",
        "null collection descrip:77669"
       ]
      },
      {
       "output_type": "stream",
       "stream": "stdout",
       "text": [
        "\n",
        "<Row key=[None, u'1412', u'1412--http://ark.cdlib.org/ark:/20775/bb0001238p'], value=1>\n",
        "<Row key=[None, u'1412', u'1412--http://ark.cdlib.org/ark:/20775/bb00012396'], value=1>\n",
        "<Row key=[None, u'1412', u'1412--http://ark.cdlib.org/ark:/20775/bb00012401'], value=1>\n",
        "<Row key=[None, u'1412', u'1412--http://ark.cdlib.org/ark:/20775/bb0001241j'], value=1>\n",
        "<Row key=[None, u'1412', u'1412--http://ark.cdlib.org/ark:/20775/bb00012422'], value=1>\n",
        "<Row key=[None, u'1412', u'1412--http://ark.cdlib.org/ark:/20775/bb0001243k'], value=1>\n",
        "<Row key=[None, u'1412', u'1412--http://ark.cdlib.org/ark:/20775/bb00012443'], value=1>\n",
        "<Row key=[None, u'1412', u'1412--http://ark.cdlib.org/ark:/20775/bb0001245m'], value=1>\n",
        "<Row key=[None, u'1412', u'1412--http://ark.cdlib.org/ark:/20775/bb00012464'], value=1>\n",
        "<Row key=[None, u'1412', u'1412--http://ark.cdlib.org/ark:/20775/bb0001247n'], value=1>\n"
       ]
      }
     ],
     "prompt_number": 15
    },
    {
     "cell_type": "code",
     "collapsed": false,
     "input": [],
     "language": "python",
     "metadata": {},
     "outputs": []
    }
   ],
   "metadata": {}
  }
 ]
}