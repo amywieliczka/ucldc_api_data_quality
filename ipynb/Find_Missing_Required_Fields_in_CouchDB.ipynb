{
 "metadata": {
  "name": ""
 },
 "nbformat": 3,
 "nbformat_minor": 0,
 "worksheets": [
  {
   "cells": [
    {
     "cell_type": "code",
     "collapsed": false,
     "input": [
      "from __future__ import print_function"
     ],
     "language": "python",
     "metadata": {},
     "outputs": [],
     "prompt_number": 28
    },
    {
     "cell_type": "code",
     "collapsed": false,
     "input": [
      "import couchdb\n",
      "s=couchdb.Server('https://54.84.142.143/couchdb')\n",
      "db=s['ucldc']"
     ],
     "language": "python",
     "metadata": {},
     "outputs": [],
     "prompt_number": 29
    },
    {
     "cell_type": "code",
     "collapsed": false,
     "input": [
      "def get_missing_for_field(field_path, collection_id=None):\n",
      "    viewname = 'qa_reports/{0}_value'.format(field_path)\n",
      "    start_key = [\"__MISSING__\"]\n",
      "    end_key = [\"__MISSING__\"]\n",
      "    if collection_id:\n",
      "        start_key.append(str(collection_id))\n",
      "        end_key.append(str(collection_id))\n",
      "    end_key.append({}) # empty dict\n",
      "    print(\"START KEY: {}\".format(start_key))\n",
      "    print(\"END_KEY: {}\".format(end_key))\n",
      "    view=db.view(viewname, startkey=start_key, endkey=end_key,group_level=3)\n",
      "    try:\n",
      "        missing_list = [r for r in view]\n",
      "    except couchdb.ResourceNotFound:\n",
      "        missing_list = ['view not found for {0}'.format(viewname)]\n",
      "    return missing_list"
     ],
     "language": "python",
     "metadata": {},
     "outputs": [],
     "prompt_number": 30
    },
    {
     "cell_type": "code",
     "collapsed": false,
     "input": [
      "#NOTE: this step will take some time to run, as it does a lot of queires agains the couchdb\n",
      "fields_to_check = [\"sourceResource.specType\",\n",
      "\"isShownAt\",\n",
      "\"isShownBy\",\n",
      "\"sourceResource.title\",\n",
      "\"sourceResource.creator\",\n",
      "]\n",
      "'''\n",
      "\"sourceResource.publisher\",\n",
      "\"sourceResource.date\",\n",
      "\"sourceResource.description\",\n",
      "\"sourceResource.format\",\n",
      "\"sourceResource.type\",\n",
      "\"sourceResource.subject.name\",\n",
      "\"sourceResource.spatial.state\",\n",
      "\"sourceResource.spatial.name\",\n",
      "\"sourceResource.stateLocatedIn.name\",\n",
      "\"sourceResource.rights\",\n",
      "\"provider.name\",\n",
      "\"intermediateProvider\",\n",
      "\"dataProvider\",\n",
      "\"sourceResource.collection.title\",\n",
      "\"sourceResource.collection.description\",\n",
      "\"sourceResource.contributor\",\n",
      "\"sourceResource.language.name\",\n",
      "\"sourceResource.language.iso639_3\",\n",
      "\"sourceResource.temporal\",\n",
      "\"sourceResource.isPartOf\",\n",
      "\"sourceResource.relation\",\n",
      "\"sourceResource.extent\",\n",
      "\"sourceResource.identifier\",\n",
      "]\n",
      "'''\n",
      "\n",
      "missing = {}\n",
      "for field in fields_to_check:\n",
      "    missing[field] = get_missing_for_field(field, collection_id=1675)"
     ],
     "language": "python",
     "metadata": {},
     "outputs": [
      {
       "output_type": "stream",
       "stream": "stdout",
       "text": [
        "START KEY: ['__MISSING__', '1675']\n",
        "END_KEY: ['__MISSING__', '1675', {}]\n",
        "START KEY: ['__MISSING__', '1675']"
       ]
      },
      {
       "output_type": "stream",
       "stream": "stdout",
       "text": [
        "\n",
        "END_KEY: ['__MISSING__', '1675', {}]\n",
        "START KEY: ['__MISSING__', '1675']"
       ]
      },
      {
       "output_type": "stream",
       "stream": "stdout",
       "text": [
        "\n",
        "END_KEY: ['__MISSING__', '1675', {}]\n",
        "START KEY: ['__MISSING__', '1675']"
       ]
      },
      {
       "output_type": "stream",
       "stream": "stdout",
       "text": [
        "\n",
        "END_KEY: ['__MISSING__', '1675', {}]\n",
        "START KEY: ['__MISSING__', '1675']"
       ]
      },
      {
       "output_type": "stream",
       "stream": "stdout",
       "text": [
        "\n",
        "END_KEY: ['__MISSING__', '1675', {}]\n"
       ]
      }
     ],
     "prompt_number": 31
    },
    {
     "cell_type": "code",
     "collapsed": false,
     "input": [
      "for fieldpath, rows in missing.items():\n",
      "    print('{0}:{1}\\n'.format(fieldpath, len(rows)))"
     ],
     "language": "python",
     "metadata": {},
     "outputs": [
      {
       "output_type": "stream",
       "stream": "stdout",
       "text": [
        "sourceResource.specType:1\n",
        "\n",
        "sourceResource.title:0\n",
        "\n",
        "sourceResource.creator:0\n",
        "\n",
        "isShownBy:1\n",
        "\n",
        "isShownAt:0\n",
        "\n"
       ]
      }
     ],
     "prompt_number": 32
    },
    {
     "cell_type": "code",
     "collapsed": false,
     "input": [
      "#now flag problems, there are certain items that should never be missing\n",
      "\n",
      "import sys\n",
      "def report_missing_for_field(field, missing=None, collection_id=None):\n",
      "    if not missing:\n",
      "        missing = get_missing_for_field(field, collection_id=collection_id)\n",
      "    for row in missing:\n",
      "        print('Missing {0}: {1}'.format(field, row['key'][2]), file=sys.stderr)"
     ],
     "language": "python",
     "metadata": {},
     "outputs": [],
     "prompt_number": 33
    },
    {
     "cell_type": "code",
     "collapsed": false,
     "input": [
      "report_missing_for_field('dataProvider', missing=missing['dataProvider'])"
     ],
     "language": "python",
     "metadata": {},
     "outputs": [
      {
       "ename": "KeyError",
       "evalue": "'dataProvider'",
       "output_type": "pyerr",
       "traceback": [
        "\u001b[0;31m---------------------------------------------------------------------------\u001b[0m\n\u001b[0;31mKeyError\u001b[0m                                  Traceback (most recent call last)",
        "\u001b[0;32m<ipython-input-34-020a5e51d46f>\u001b[0m in \u001b[0;36m<module>\u001b[0;34m()\u001b[0m\n\u001b[0;32m----> 1\u001b[0;31m \u001b[0mreport_missing_for_field\u001b[0m\u001b[0;34m(\u001b[0m\u001b[0;34m'dataProvider'\u001b[0m\u001b[0;34m,\u001b[0m \u001b[0mmissing\u001b[0m\u001b[0;34m=\u001b[0m\u001b[0mmissing\u001b[0m\u001b[0;34m[\u001b[0m\u001b[0;34m'dataProvider'\u001b[0m\u001b[0;34m]\u001b[0m\u001b[0;34m)\u001b[0m\u001b[0;34m\u001b[0m\u001b[0m\n\u001b[0m",
        "\u001b[0;31mKeyError\u001b[0m: 'dataProvider'"
       ]
      }
     ],
     "prompt_number": 34
    },
    {
     "cell_type": "code",
     "collapsed": false,
     "input": [
      "report_missing_for_field('sourceResource.identifier', missing=missing['sourceResource.identifier'])"
     ],
     "language": "python",
     "metadata": {},
     "outputs": [
      {
       "ename": "KeyError",
       "evalue": "'sourceResource.identifier'",
       "output_type": "pyerr",
       "traceback": [
        "\u001b[0;31m---------------------------------------------------------------------------\u001b[0m\n\u001b[0;31mKeyError\u001b[0m                                  Traceback (most recent call last)",
        "\u001b[0;32m<ipython-input-35-f1cdfbbd49fb>\u001b[0m in \u001b[0;36m<module>\u001b[0;34m()\u001b[0m\n\u001b[0;32m----> 1\u001b[0;31m \u001b[0mreport_missing_for_field\u001b[0m\u001b[0;34m(\u001b[0m\u001b[0;34m'sourceResource.identifier'\u001b[0m\u001b[0;34m,\u001b[0m \u001b[0mmissing\u001b[0m\u001b[0;34m=\u001b[0m\u001b[0mmissing\u001b[0m\u001b[0;34m[\u001b[0m\u001b[0;34m'sourceResource.identifier'\u001b[0m\u001b[0;34m]\u001b[0m\u001b[0;34m)\u001b[0m\u001b[0;34m\u001b[0m\u001b[0m\n\u001b[0m",
        "\u001b[0;31mKeyError\u001b[0m: 'sourceResource.identifier'"
       ]
      }
     ],
     "prompt_number": 35
    },
    {
     "cell_type": "code",
     "collapsed": false,
     "input": [
      "report_missing_for_field('sourceResource.title')"
     ],
     "language": "python",
     "metadata": {},
     "outputs": [
      {
       "output_type": "stream",
       "stream": "stdout",
       "text": [
        "START KEY: ['__MISSING__']\n",
        "END_KEY: ['__MISSING__', {}]\n"
       ]
      }
     ],
     "prompt_number": 36
    },
    {
     "cell_type": "code",
     "collapsed": false,
     "input": [
      "report_missing_for_field('isShownBy', collection_id=1675)"
     ],
     "language": "python",
     "metadata": {},
     "outputs": [
      {
       "output_type": "stream",
       "stream": "stdout",
       "text": [
        "START KEY: ['__MISSING__', '1675']\n",
        "END_KEY: ['__MISSING__', '1675', {}]\n"
       ]
      },
      {
       "output_type": "stream",
       "stream": "stderr",
       "text": [
        "Missing isShownBy: 1675--http://ark.cdlib.org/ark:/13030/kt1t1nd9zd\n"
       ]
      }
     ],
     "prompt_number": 37
    },
    {
     "cell_type": "code",
     "collapsed": false,
     "input": [],
     "language": "python",
     "metadata": {},
     "outputs": []
    }
   ],
   "metadata": {}
  }
 ]
}