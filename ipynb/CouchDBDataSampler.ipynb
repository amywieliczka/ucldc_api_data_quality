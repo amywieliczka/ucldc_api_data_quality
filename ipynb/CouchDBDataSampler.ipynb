{
 "metadata": {
  "name": "",
  "signature": "sha256:dd6c91ef646026844f15659b88088d9f7fcf523db8a1c535f08c015ea2ea9e17"
 },
 "nbformat": 3,
 "nbformat_minor": 0,
 "worksheets": [
  {
   "cells": [
    {
     "cell_type": "markdown",
     "metadata": {},
     "source": [
      "CouchDb Data Sampler notebook\n",
      "=============================\n",
      "\n",
      "This should provide a base for creating random samples of documents in a collection in Couch DB.\n",
      "It will create a new db \"samples_from_<cid>_<date>\" in couchdb for use in QA."
     ]
    },
    {
     "cell_type": "code",
     "collapsed": false,
     "input": [
      "from __future__ import print_function\n",
      "import os\n",
      "import json\n",
      "import random\n",
      "import datetime\n",
      "import couchdb"
     ],
     "language": "python",
     "metadata": {},
     "outputs": [],
     "prompt_number": 9
    },
    {
     "cell_type": "code",
     "collapsed": false,
     "input": [
      "collection_id = '1678' # NOTE: is a string, not a number though numeric data\n",
      "sample_size = 3\n",
      "sample_db_name_template = 'ucldc_samples_from_{}_{}'"
     ],
     "language": "python",
     "metadata": {},
     "outputs": [],
     "prompt_number": 15
    },
    {
     "cell_type": "code",
     "collapsed": false,
     "input": [
      "# NOTE: the calls below get the results from https://54.84.142.143/couchdb/ucldc/_design/all_provider_docs/_view/by_provider_name?key=\"1678\"\n",
      "server = couchdb.Server()\n",
      "server.resource.credentials = ('admin', os.environ['COUCHDB_PASSWORD'])\n",
      "cdb = server['ucldc']\n",
      "v = cdb.view('all_provider_docs/by_provider_name',\n",
      "             key=collection_id)\n",
      "doc_ids = []\n",
      "for row in v:\n",
      "    doc_ids.append(row['id'])\n",
      "print('Docs in collection:{}'.format(len(doc_ids)))"
     ],
     "language": "python",
     "metadata": {},
     "outputs": [
      {
       "output_type": "stream",
       "stream": "stdout",
       "text": [
        "Docs in collection:61\n"
       ]
      }
     ],
     "prompt_number": 16
    },
    {
     "cell_type": "code",
     "collapsed": false,
     "input": [
      "population_size = len(doc_ids)\n",
      "sample_ids = []\n",
      "# NOTE: Each time this is run, a different sample set will be generated. Remember that notebooks cache results!\n",
      "for i in range(0, sample_size):\n",
      "    rand_index = random.randint(0, population_size - 1)\n",
      "    sample_ids.append(doc_ids[rand_index])\n",
      "print(sample_ids)"
     ],
     "language": "python",
     "metadata": {},
     "outputs": [
      {
       "output_type": "stream",
       "stream": "stdout",
       "text": [
        "[u'1678--http://ark.cdlib.org/ark:/13030/tf4p3007qj', u'1678--http://ark.cdlib.org/ark:/13030/tf5x0nb5dv', u'1678--http://ark.cdlib.org/ark:/13030/tf396nb2xm']\n"
       ]
      }
     ],
     "prompt_number": 17
    },
    {
     "cell_type": "code",
     "collapsed": false,
     "input": [
      "# create new db for sample data\n",
      "db_name = sample_db_name_template.format(collection_id, datetime.date.today())\n",
      "sample_db = server.create(db_name)"
     ],
     "language": "python",
     "metadata": {},
     "outputs": [],
     "prompt_number": 18
    },
    {
     "cell_type": "code",
     "collapsed": false,
     "input": [
      "for doc_id in sample_ids:\n",
      "    doc = cdb[doc_id]\n",
      "    sample_db[doc_id] = doc"
     ],
     "language": "python",
     "metadata": {},
     "outputs": [],
     "prompt_number": 19
    },
    {
     "cell_type": "code",
     "collapsed": false,
     "input": [],
     "language": "python",
     "metadata": {},
     "outputs": []
    }
   ],
   "metadata": {}
  }
 ]
}