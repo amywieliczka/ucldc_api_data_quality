{
 "metadata": {
  "name": "",
  "signature": "sha256:86b952fd1f34538540148c3dca0434135dc7b4878c8eed6c28d5d9c548c1203e"
 },
 "nbformat": 3,
 "nbformat_minor": 0,
 "worksheets": [
  {
   "cells": [
    {
     "cell_type": "markdown",
     "metadata": {},
     "source": [
      "CouchDb Data Sampler notebook\n",
      "=============================\n",
      "\n",
      "This should provide a base for creating random samples of documents in a collection in Couch DB.\n",
      "It will create a new db \"samples_from_<cid>_<date>\" in couchdb for use in QA."
     ]
    },
    {
     "cell_type": "code",
     "collapsed": false,
     "input": [
      "from __future__ import print_function\n",
      "import os\n",
      "import json\n",
      "import random\n",
      "import datetime\n",
      "import couchdb"
     ],
     "language": "python",
     "metadata": {},
     "outputs": [],
     "prompt_number": 29
    },
    {
     "cell_type": "code",
     "collapsed": false,
     "input": [
      "collection_id = '1678' # NOTE: is a string, not a number though numeric data\n",
      "sample_size = 3\n",
      "SAMPLE_DB_NAME_TEMPLATE = 'ucldc_samples_from_{}_{}'"
     ],
     "language": "python",
     "metadata": {},
     "outputs": [],
     "prompt_number": 30
    },
    {
     "cell_type": "code",
     "collapsed": false,
     "input": [
      "# NOTE: the calls below get the results from https://54.84.142.143/couchdb/ucldc/_design/all_provider_docs/_view/by_provider_name?key=\"1678\"\n",
      "server = couchdb.Server()\n",
      "server.resource.credentials = ('admin', os.environ['COUCHDB_PASSWORD'])\n",
      "cdb = server['ucldc']"
     ],
     "language": "python",
     "metadata": {},
     "outputs": [],
     "prompt_number": 31
    },
    {
     "cell_type": "code",
     "collapsed": false,
     "input": [
      "def get_collection_ids(couchdb, collection_id):\n",
      "    v = cdb.view('all_provider_docs/by_provider_name',\n",
      "             key=collection_id)\n",
      "    doc_ids = []\n",
      "    for row in v:\n",
      "        doc_ids.append(row['id'])\n",
      "    return doc_ids"
     ],
     "language": "python",
     "metadata": {},
     "outputs": [],
     "prompt_number": 32
    },
    {
     "cell_type": "code",
     "collapsed": false,
     "input": [
      "def get_sample_ids(collection_ids, sample_size):\n",
      "    population_size = len(doc_ids)\n",
      "    sample_ids = set()\n",
      "    # NOTE: Each time this is run, a different sample set will be generated. Remember that notebooks cache results!\n",
      "    # It may also take more than sample_size loops, if collisions in random ids occur set will not grow\n",
      "    while len(sample_ids) <= sample_size:\n",
      "        rand_index = random.randint(0, population_size - 1)\n",
      "        sample_ids.add(doc_ids[rand_index])\n",
      "    return sample_ids"
     ],
     "language": "python",
     "metadata": {},
     "outputs": [],
     "prompt_number": 39
    },
    {
     "cell_type": "code",
     "collapsed": false,
     "input": [
      "def create_samples_db(sourcedb, collection_id, sample_size=3):\n",
      "    collection_ids = get_collection_ids(sourcedb, collection_id)\n",
      "    sample_ids = get_sample_ids(collection_ids, sample_size)\n",
      "    sample_db = server.create(SAMPLE_DB_NAME_TEMPLATE.format(collection_id, datetime.date.today()))\n",
      "    for doc_id in sample_ids:\n",
      "        sample_db[doc_id] = sourcedb[doc_id]\n",
      "    return 'Created db {} with docs {}'.format(sample_db, sample_ids)"
     ],
     "language": "python",
     "metadata": {},
     "outputs": [],
     "prompt_number": 40
    },
    {
     "cell_type": "code",
     "collapsed": false,
     "input": [
      "print(create_samples_db(cdb, '1678'))"
     ],
     "language": "python",
     "metadata": {},
     "outputs": [
      {
       "output_type": "stream",
       "stream": "stdout",
       "text": [
        "Created db <Database 'ucldc_samples_from_1678_2014-12-17'> with docs set([u'1678--http://ark.cdlib.org/ark:/13030/tf8779p41q', u'1678--http://ark.cdlib.org/ark:/13030/tf4h4nb47v', u'1678--http://ark.cdlib.org/ark:/13030/tf9f59p43c', u'1678--http://ark.cdlib.org/ark:/13030/tf6290092c'])\n"
       ]
      }
     ],
     "prompt_number": 42
    },
    {
     "cell_type": "code",
     "collapsed": false,
     "input": [
      "# Takes a while, big collections will be slow\n",
      "print(create_samples_db(cdb, '26094', sample_size=50))"
     ],
     "language": "python",
     "metadata": {},
     "outputs": [
      {
       "output_type": "stream",
       "stream": "stdout",
       "text": [
        "Created db <Database 'ucldc_samples_from_26094_2014-12-17'> with docs set([u'1678--http://ark.cdlib.org/ark:/13030/tf4p3007r2', u'1678--http://ark.cdlib.org/ark:/13030/tf2s2006q3', u'1678--http://ark.cdlib.org/ark:/13030/tf9w10119r', u'1678--http://ark.cdlib.org/ark:/13030/tf138nb26t', u'1678--http://ark.cdlib.org/ark:/13030/tf387006n3', u'1678--http://ark.cdlib.org/ark:/13030/tf467nb4pm', u'1678--http://ark.cdlib.org/ark:/13030/tf4p3007qj', u'1678--http://ark.cdlib.org/ark:/13030/tf3q2nb3z7', u'1678--http://ark.cdlib.org/ark:/13030/tf4489p15f', u'1678--http://ark.cdlib.org/ark:/13030/tf4199n9w2', u'1678--http://ark.cdlib.org/ark:/13030/tf467nb4q4', u'1678--http://ark.cdlib.org/ark:/13030/tf7v19p2zb', u'1678--http://ark.cdlib.org/ark:/13030/tf0g5005fw', u'1678--http://ark.cdlib.org/ark:/13030/tf8x0nb7rx', u'1678--http://ark.cdlib.org/ark:/13030/tf8j49p3gx', u'1678--http://ark.cdlib.org/ark:/13030/tf9r29p4cg', u'1678--http://ark.cdlib.org/ark:/13030/tf3j49n9rz', u'1678--http://ark.cdlib.org/ark:/13030/tf5d5nb4j5', u'1678--http://ark.cdlib.org/ark:/13030/tf8m3nb6pf', u'1678--http://ark.cdlib.org/ark:/13030/tf038nb1j6', u'1678--http://ark.cdlib.org/ark:/13030/tf5z09p1mq', u'1678--http://ark.cdlib.org/ark:/13030/tf0q2nb1fk', u'1678--http://ark.cdlib.org/ark:/13030/tf6199p1ch', u'1678--http://ark.cdlib.org/ark:/13030/tf7d5nb673', u'1678--http://ark.cdlib.org/ark:/13030/tf5h4nb4qd', u'1678--http://ark.cdlib.org/ark:/13030/tf700009dr', u'1678--http://ark.cdlib.org/ark:/13030/tf4g5007ts', u'1678--http://ark.cdlib.org/ark:/13030/tf8g5010bv', u'1678--http://ark.cdlib.org/ark:/13030/tf8n39p3pp', u'1678--http://ark.cdlib.org/ark:/13030/tf0b69n82w', u'1678--http://ark.cdlib.org/ark:/13030/tf5v19p1qm', u'1678--http://ark.cdlib.org/ark:/13030/tf15800595', u'1678--http://ark.cdlib.org/ark:/13030/tf5h4nb4rx', u'1678--http://ark.cdlib.org/ark:/13030/tf709nb60v', u'1678--http://ark.cdlib.org/ark:/13030/tf6779p2pz', u'1678--http://ark.cdlib.org/ark:/13030/tf096nb107', u'1678--http://ark.cdlib.org/ark:/13030/tf2j49p03x', u'1678--http://ark.cdlib.org/ark:/13030/tf7z09p384', u'1678--http://ark.cdlib.org/ark:/13030/tf109nb1hb', u'1678--http://ark.cdlib.org/ark:/13030/tf4199n9xk', u'1678--http://ark.cdlib.org/ark:/13030/tf0r29n80g', u'1678--http://ark.cdlib.org/ark:/13030/tf8j49p3dw', u'1678--http://ark.cdlib.org/ark:/13030/tf5x0nb5dv', u'1678--http://ark.cdlib.org/ark:/13030/tf396nb2xm', u'1678--http://ark.cdlib.org/ark:/13030/tf400007gw', u'1678--http://ark.cdlib.org/ark:/13030/tf0s2005gc', u'1678--http://ark.cdlib.org/ark:/13030/tf8m3nb6qz', u'1678--http://ark.cdlib.org/ark:/13030/tf8779p41q', u'1678--http://ark.cdlib.org/ark:/13030/tf4h4nb47v', u'1678--http://ark.cdlib.org/ark:/13030/tf609nb502', u'1678--http://ark.cdlib.org/ark:/13030/tf9f59p43c'])\n"
       ]
      }
     ],
     "prompt_number": 43
    },
    {
     "cell_type": "code",
     "collapsed": false,
     "input": [],
     "language": "python",
     "metadata": {},
     "outputs": []
    }
   ],
   "metadata": {}
  }
 ]
}